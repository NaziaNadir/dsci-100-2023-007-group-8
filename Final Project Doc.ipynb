{
 "cells": [
  {
   "cell_type": "markdown",
   "id": "975d9552-fe12-4200-b7ea-4006920477cc",
   "metadata": {},
   "source": [
    "Optimizing Dry Bean Sorting into Classes using Classification with K-nearest neighbors"
   ]
  },
  {
   "cell_type": "code",
   "execution_count": null,
   "id": "8b9f70fc-d21d-4074-b78d-8468beceaef8",
   "metadata": {},
   "outputs": [],
   "source": [
    "Introduction:"
   ]
  },
  {
   "cell_type": "markdown",
   "id": "a04ba2f8-486e-4840-9796-22a6e2fc0733",
   "metadata": {},
   "source": [
    "Methods & Results:"
   ]
  },
  {
   "cell_type": "code",
   "execution_count": null,
   "id": "e8a46e9c-d598-4f0a-821e-0212b47e7376",
   "metadata": {},
   "outputs": [],
   "source": [
    "Discussion:"
   ]
  },
  {
   "cell_type": "code",
   "execution_count": null,
   "id": "b9ab59bf-61f6-423b-9729-a4fd5e51aec7",
   "metadata": {},
   "outputs": [],
   "source": [
    "References"
   ]
  }
 ],
 "metadata": {
  "kernelspec": {
   "display_name": "R",
   "language": "R",
   "name": "ir"
  },
  "language_info": {
   "codemirror_mode": "r",
   "file_extension": ".r",
   "mimetype": "text/x-r-source",
   "name": "R",
   "pygments_lexer": "r",
   "version": "4.1.3"
  }
 },
 "nbformat": 4,
 "nbformat_minor": 5
}
