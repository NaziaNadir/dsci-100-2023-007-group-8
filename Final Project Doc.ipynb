{
 "cells": [
  {
   "cell_type": "markdown",
   "id": "975d9552-fe12-4200-b7ea-4006920477cc",
   "metadata": {},
   "source": [
    "Optimizing Dry Bean Sorting into Classes using Classification with K-nearest neighbors"
   ]
  }
 ],
 "metadata": {
  "kernelspec": {
   "display_name": "R",
   "language": "R",
   "name": "ir"
  },
  "language_info": {
   "codemirror_mode": "r",
   "file_extension": ".r",
   "mimetype": "text/x-r-source",
   "name": "R",
   "pygments_lexer": "r",
   "version": "4.1.3"
  }
 },
 "nbformat": 4,
 "nbformat_minor": 5
}
