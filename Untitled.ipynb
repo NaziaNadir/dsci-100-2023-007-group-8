{
 "cells": [
  {
   "cell_type": "code",
   "execution_count": null,
   "id": "bd6cbe9e-e7f3-4c89-b064-05d9f0ba3de4",
   "metadata": {},
   "outputs": [],
   "source": []
  }
 ],
 "metadata": {
  "kernelspec": {
   "display_name": "R",
   "language": "R",
   "name": "ir"
  },
  "language_info": {
   "codemirror_mode": "r",
   "file_extension": ".r",
   "mimetype": "text/x-r-source",
   "name": "R",
   "pygments_lexer": "r",
   "version": "4.1.3"
  }
 },
 "nbformat": 4,
 "nbformat_minor": 5
}
