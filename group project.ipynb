{
 "cells": [
  {
   "cell_type": "code",
   "execution_count": 3,
   "id": "822ec992-70ef-4662-aee7-ad1df6677ed6",
   "metadata": {},
   "outputs": [
    {
     "name": "stderr",
     "output_type": "stream",
     "text": [
      "── \u001b[1mAttaching packages\u001b[22m ─────────────────────────────────────── tidyverse 1.3.1 ──\n",
      "\n",
      "\u001b[32m✔\u001b[39m \u001b[34mggplot2\u001b[39m 3.3.6     \u001b[32m✔\u001b[39m \u001b[34mpurrr  \u001b[39m 0.3.4\n",
      "\u001b[32m✔\u001b[39m \u001b[34mtibble \u001b[39m 3.1.7     \u001b[32m✔\u001b[39m \u001b[34mdplyr  \u001b[39m 1.0.9\n",
      "\u001b[32m✔\u001b[39m \u001b[34mtidyr  \u001b[39m 1.2.0     \u001b[32m✔\u001b[39m \u001b[34mstringr\u001b[39m 1.4.0\n",
      "\u001b[32m✔\u001b[39m \u001b[34mreadr  \u001b[39m 2.1.2     \u001b[32m✔\u001b[39m \u001b[34mforcats\u001b[39m 0.5.1\n",
      "\n",
      "── \u001b[1mConflicts\u001b[22m ────────────────────────────────────────── tidyverse_conflicts() ──\n",
      "\u001b[31m✖\u001b[39m \u001b[34mdplyr\u001b[39m::\u001b[32mfilter()\u001b[39m masks \u001b[34mstats\u001b[39m::filter()\n",
      "\u001b[31m✖\u001b[39m \u001b[34mdplyr\u001b[39m::\u001b[32mlag()\u001b[39m    masks \u001b[34mstats\u001b[39m::lag()\n",
      "\n",
      "Warning message in file(filename, \"r\", encoding = encoding):\n",
      "“cannot open file 'tests.R': No such file or directory”\n"
     ]
    },
    {
     "ename": "ERROR",
     "evalue": "Error in file(filename, \"r\", encoding = encoding): cannot open the connection\n",
     "output_type": "error",
     "traceback": [
      "Error in file(filename, \"r\", encoding = encoding): cannot open the connection\nTraceback:\n",
      "1. source(\"tests.R\")",
      "2. file(filename, \"r\", encoding = encoding)"
     ]
    }
   ],
   "source": [
    "# Download all the necessay libraries\n",
    "library(tidyverse)\n",
    "library(repr)\n",
    "options(repr.matrix.max.rows = 6)\n",
    "source(\"tests.R\")\n",
    "source(\"cleanup.R\")"
   ]
  },
  {
   "cell_type": "code",
   "execution_count": 1,
   "id": "de597f9a-22e1-4de5-a86d-e5aa412c4a58",
   "metadata": {},
   "outputs": [
    {
     "ename": "ERROR",
     "evalue": "Error in parse(text = x, srcfile = src): <text>:1:7: unexpected symbol\n1: Title of\n          ^\n",
     "output_type": "error",
     "traceback": [
      "Error in parse(text = x, srcfile = src): <text>:1:7: unexpected symbol\n1: Title of\n          ^\nTraceback:\n"
     ]
    }
   ],
   "source": [
    "Title of Project: Optimizing Dry Bean Sorting Efficiency with Automated Image Classification Techniques"
   ]
  },
  {
   "cell_type": "code",
   "execution_count": 4,
   "id": "36962039-f3c6-46c9-b8d1-3c8dcfd78dea",
   "metadata": {},
   "outputs": [
    {
     "name": "stderr",
     "output_type": "stream",
     "text": [
      "\u001b[1mRows: \u001b[22m\u001b[34m13611\u001b[39m \u001b[1mColumns: \u001b[22m\u001b[34m17\u001b[39m\n",
      "\u001b[36m──\u001b[39m \u001b[1mColumn specification\u001b[22m \u001b[36m────────────────────────────────────────────────────────\u001b[39m\n",
      "\u001b[1mDelimiter:\u001b[22m \",\"\n",
      "\u001b[31mchr\u001b[39m  (1): Class\n",
      "\u001b[32mdbl\u001b[39m (16): Area, Perimeter, MajorAxisLength, MinorAxisLength, AspectRation, E...\n",
      "\n",
      "\u001b[36mℹ\u001b[39m Use `spec()` to retrieve the full column specification for this data.\n",
      "\u001b[36mℹ\u001b[39m Specify the column types or set `show_col_types = FALSE` to quiet this message.\n"
     ]
    },
    {
     "data": {
      "text/html": [
       "<table class=\"dataframe\">\n",
       "<caption>A spec_tbl_df: 13611 × 17</caption>\n",
       "<thead>\n",
       "\t<tr><th scope=col>Area</th><th scope=col>Perimeter</th><th scope=col>MajorAxisLength</th><th scope=col>MinorAxisLength</th><th scope=col>AspectRation</th><th scope=col>Eccentricity</th><th scope=col>ConvexArea</th><th scope=col>EquivDiameter</th><th scope=col>Extent</th><th scope=col>Solidity</th><th scope=col>roundness</th><th scope=col>Compactness</th><th scope=col>ShapeFactor1</th><th scope=col>ShapeFactor2</th><th scope=col>ShapeFactor3</th><th scope=col>ShapeFactor4</th><th scope=col>Class</th></tr>\n",
       "\t<tr><th scope=col>&lt;dbl&gt;</th><th scope=col>&lt;dbl&gt;</th><th scope=col>&lt;dbl&gt;</th><th scope=col>&lt;dbl&gt;</th><th scope=col>&lt;dbl&gt;</th><th scope=col>&lt;dbl&gt;</th><th scope=col>&lt;dbl&gt;</th><th scope=col>&lt;dbl&gt;</th><th scope=col>&lt;dbl&gt;</th><th scope=col>&lt;dbl&gt;</th><th scope=col>&lt;dbl&gt;</th><th scope=col>&lt;dbl&gt;</th><th scope=col>&lt;dbl&gt;</th><th scope=col>&lt;dbl&gt;</th><th scope=col>&lt;dbl&gt;</th><th scope=col>&lt;dbl&gt;</th><th scope=col>&lt;chr&gt;</th></tr>\n",
       "</thead>\n",
       "<tbody>\n",
       "\t<tr><td>28395</td><td>610.291</td><td>208.1781</td><td>173.8887</td><td>1.197191</td><td>0.5498122</td><td>28715</td><td>190.1411</td><td>0.7639225</td><td>0.9888560</td><td>0.9580271</td><td>0.9133578</td><td>0.007331506</td><td>0.003147289</td><td>0.8342224</td><td>0.9987239</td><td>SEKER</td></tr>\n",
       "\t<tr><td>28734</td><td>638.018</td><td>200.5248</td><td>182.7344</td><td>1.097356</td><td>0.4117853</td><td>29172</td><td>191.2728</td><td>0.7839681</td><td>0.9849856</td><td>0.8870336</td><td>0.9538608</td><td>0.006978659</td><td>0.003563624</td><td>0.9098505</td><td>0.9984303</td><td>SEKER</td></tr>\n",
       "\t<tr><td>29380</td><td>624.110</td><td>212.8261</td><td>175.9311</td><td>1.209713</td><td>0.5627273</td><td>29690</td><td>193.4109</td><td>0.7781132</td><td>0.9895588</td><td>0.9478495</td><td>0.9087742</td><td>0.007243912</td><td>0.003047733</td><td>0.8258706</td><td>0.9990661</td><td>SEKER</td></tr>\n",
       "\t<tr><td>⋮</td><td>⋮</td><td>⋮</td><td>⋮</td><td>⋮</td><td>⋮</td><td>⋮</td><td>⋮</td><td>⋮</td><td>⋮</td><td>⋮</td><td>⋮</td><td>⋮</td><td>⋮</td><td>⋮</td><td>⋮</td><td>⋮</td></tr>\n",
       "\t<tr><td>42139</td><td>759.321</td><td>281.5399</td><td>191.1880</td><td>1.472582</td><td>0.7340648</td><td>42569</td><td>231.6313</td><td>0.7299324</td><td>0.9898988</td><td>0.9184241</td><td>0.8227297</td><td>0.006681220</td><td>0.001888271</td><td>0.6768842</td><td>0.9967673</td><td>DERMASON</td></tr>\n",
       "\t<tr><td>42147</td><td>763.779</td><td>283.3826</td><td>190.2757</td><td>1.489326</td><td>0.7410548</td><td>42667</td><td>231.6532</td><td>0.7053891</td><td>0.9878126</td><td>0.9079065</td><td>0.8174575</td><td>0.006723673</td><td>0.001852025</td><td>0.6682367</td><td>0.9952224</td><td>DERMASON</td></tr>\n",
       "\t<tr><td>42159</td><td>772.237</td><td>295.1427</td><td>182.2047</td><td>1.619841</td><td>0.7866930</td><td>42600</td><td>231.6862</td><td>0.7889625</td><td>0.9896479</td><td>0.8883804</td><td>0.7849972</td><td>0.007000705</td><td>0.001639812</td><td>0.6162206</td><td>0.9981796</td><td>DERMASON</td></tr>\n",
       "</tbody>\n",
       "</table>\n"
      ],
      "text/latex": [
       "A spec\\_tbl\\_df: 13611 × 17\n",
       "\\begin{tabular}{lllllllllllllllll}\n",
       " Area & Perimeter & MajorAxisLength & MinorAxisLength & AspectRation & Eccentricity & ConvexArea & EquivDiameter & Extent & Solidity & roundness & Compactness & ShapeFactor1 & ShapeFactor2 & ShapeFactor3 & ShapeFactor4 & Class\\\\\n",
       " <dbl> & <dbl> & <dbl> & <dbl> & <dbl> & <dbl> & <dbl> & <dbl> & <dbl> & <dbl> & <dbl> & <dbl> & <dbl> & <dbl> & <dbl> & <dbl> & <chr>\\\\\n",
       "\\hline\n",
       "\t 28395 & 610.291 & 208.1781 & 173.8887 & 1.197191 & 0.5498122 & 28715 & 190.1411 & 0.7639225 & 0.9888560 & 0.9580271 & 0.9133578 & 0.007331506 & 0.003147289 & 0.8342224 & 0.9987239 & SEKER\\\\\n",
       "\t 28734 & 638.018 & 200.5248 & 182.7344 & 1.097356 & 0.4117853 & 29172 & 191.2728 & 0.7839681 & 0.9849856 & 0.8870336 & 0.9538608 & 0.006978659 & 0.003563624 & 0.9098505 & 0.9984303 & SEKER\\\\\n",
       "\t 29380 & 624.110 & 212.8261 & 175.9311 & 1.209713 & 0.5627273 & 29690 & 193.4109 & 0.7781132 & 0.9895588 & 0.9478495 & 0.9087742 & 0.007243912 & 0.003047733 & 0.8258706 & 0.9990661 & SEKER\\\\\n",
       "\t ⋮ & ⋮ & ⋮ & ⋮ & ⋮ & ⋮ & ⋮ & ⋮ & ⋮ & ⋮ & ⋮ & ⋮ & ⋮ & ⋮ & ⋮ & ⋮ & ⋮\\\\\n",
       "\t 42139 & 759.321 & 281.5399 & 191.1880 & 1.472582 & 0.7340648 & 42569 & 231.6313 & 0.7299324 & 0.9898988 & 0.9184241 & 0.8227297 & 0.006681220 & 0.001888271 & 0.6768842 & 0.9967673 & DERMASON\\\\\n",
       "\t 42147 & 763.779 & 283.3826 & 190.2757 & 1.489326 & 0.7410548 & 42667 & 231.6532 & 0.7053891 & 0.9878126 & 0.9079065 & 0.8174575 & 0.006723673 & 0.001852025 & 0.6682367 & 0.9952224 & DERMASON\\\\\n",
       "\t 42159 & 772.237 & 295.1427 & 182.2047 & 1.619841 & 0.7866930 & 42600 & 231.6862 & 0.7889625 & 0.9896479 & 0.8883804 & 0.7849972 & 0.007000705 & 0.001639812 & 0.6162206 & 0.9981796 & DERMASON\\\\\n",
       "\\end{tabular}\n"
      ],
      "text/markdown": [
       "\n",
       "A spec_tbl_df: 13611 × 17\n",
       "\n",
       "| Area &lt;dbl&gt; | Perimeter &lt;dbl&gt; | MajorAxisLength &lt;dbl&gt; | MinorAxisLength &lt;dbl&gt; | AspectRation &lt;dbl&gt; | Eccentricity &lt;dbl&gt; | ConvexArea &lt;dbl&gt; | EquivDiameter &lt;dbl&gt; | Extent &lt;dbl&gt; | Solidity &lt;dbl&gt; | roundness &lt;dbl&gt; | Compactness &lt;dbl&gt; | ShapeFactor1 &lt;dbl&gt; | ShapeFactor2 &lt;dbl&gt; | ShapeFactor3 &lt;dbl&gt; | ShapeFactor4 &lt;dbl&gt; | Class &lt;chr&gt; |\n",
       "|---|---|---|---|---|---|---|---|---|---|---|---|---|---|---|---|---|\n",
       "| 28395 | 610.291 | 208.1781 | 173.8887 | 1.197191 | 0.5498122 | 28715 | 190.1411 | 0.7639225 | 0.9888560 | 0.9580271 | 0.9133578 | 0.007331506 | 0.003147289 | 0.8342224 | 0.9987239 | SEKER |\n",
       "| 28734 | 638.018 | 200.5248 | 182.7344 | 1.097356 | 0.4117853 | 29172 | 191.2728 | 0.7839681 | 0.9849856 | 0.8870336 | 0.9538608 | 0.006978659 | 0.003563624 | 0.9098505 | 0.9984303 | SEKER |\n",
       "| 29380 | 624.110 | 212.8261 | 175.9311 | 1.209713 | 0.5627273 | 29690 | 193.4109 | 0.7781132 | 0.9895588 | 0.9478495 | 0.9087742 | 0.007243912 | 0.003047733 | 0.8258706 | 0.9990661 | SEKER |\n",
       "| ⋮ | ⋮ | ⋮ | ⋮ | ⋮ | ⋮ | ⋮ | ⋮ | ⋮ | ⋮ | ⋮ | ⋮ | ⋮ | ⋮ | ⋮ | ⋮ | ⋮ |\n",
       "| 42139 | 759.321 | 281.5399 | 191.1880 | 1.472582 | 0.7340648 | 42569 | 231.6313 | 0.7299324 | 0.9898988 | 0.9184241 | 0.8227297 | 0.006681220 | 0.001888271 | 0.6768842 | 0.9967673 | DERMASON |\n",
       "| 42147 | 763.779 | 283.3826 | 190.2757 | 1.489326 | 0.7410548 | 42667 | 231.6532 | 0.7053891 | 0.9878126 | 0.9079065 | 0.8174575 | 0.006723673 | 0.001852025 | 0.6682367 | 0.9952224 | DERMASON |\n",
       "| 42159 | 772.237 | 295.1427 | 182.2047 | 1.619841 | 0.7866930 | 42600 | 231.6862 | 0.7889625 | 0.9896479 | 0.8883804 | 0.7849972 | 0.007000705 | 0.001639812 | 0.6162206 | 0.9981796 | DERMASON |\n",
       "\n"
      ],
      "text/plain": [
       "      Area  Perimeter MajorAxisLength MinorAxisLength AspectRation Eccentricity\n",
       "1     28395 610.291   208.1781        173.8887        1.197191     0.5498122   \n",
       "2     28734 638.018   200.5248        182.7344        1.097356     0.4117853   \n",
       "3     29380 624.110   212.8261        175.9311        1.209713     0.5627273   \n",
       "⋮     ⋮     ⋮         ⋮               ⋮               ⋮            ⋮           \n",
       "13609 42139 759.321   281.5399        191.1880        1.472582     0.7340648   \n",
       "13610 42147 763.779   283.3826        190.2757        1.489326     0.7410548   \n",
       "13611 42159 772.237   295.1427        182.2047        1.619841     0.7866930   \n",
       "      ConvexArea EquivDiameter Extent    Solidity  roundness Compactness\n",
       "1     28715      190.1411      0.7639225 0.9888560 0.9580271 0.9133578  \n",
       "2     29172      191.2728      0.7839681 0.9849856 0.8870336 0.9538608  \n",
       "3     29690      193.4109      0.7781132 0.9895588 0.9478495 0.9087742  \n",
       "⋮     ⋮          ⋮             ⋮         ⋮         ⋮         ⋮          \n",
       "13609 42569      231.6313      0.7299324 0.9898988 0.9184241 0.8227297  \n",
       "13610 42667      231.6532      0.7053891 0.9878126 0.9079065 0.8174575  \n",
       "13611 42600      231.6862      0.7889625 0.9896479 0.8883804 0.7849972  \n",
       "      ShapeFactor1 ShapeFactor2 ShapeFactor3 ShapeFactor4 Class   \n",
       "1     0.007331506  0.003147289  0.8342224    0.9987239    SEKER   \n",
       "2     0.006978659  0.003563624  0.9098505    0.9984303    SEKER   \n",
       "3     0.007243912  0.003047733  0.8258706    0.9990661    SEKER   \n",
       "⋮     ⋮            ⋮            ⋮            ⋮            ⋮       \n",
       "13609 0.006681220  0.001888271  0.6768842    0.9967673    DERMASON\n",
       "13610 0.006723673  0.001852025  0.6682367    0.9952224    DERMASON\n",
       "13611 0.007000705  0.001639812  0.6162206    0.9981796    DERMASON"
      ]
     },
     "metadata": {},
     "output_type": "display_data"
    }
   ],
   "source": [
    "\n",
    "# Read dataset\n",
    "\n",
    "BeanData <- read_csv(\"project_data/Dry_Bean_Dataset.csv\")\n",
    "BeanData\n",
    "\n",
    "\n",
    "\n",
    "\n"
   ]
  },
  {
   "cell_type": "code",
   "execution_count": null,
   "id": "17d3c05e-44b5-4fb6-9640-6dc7b05cd495",
   "metadata": {},
   "outputs": [],
   "source": []
  }
 ],
 "metadata": {
  "kernelspec": {
   "display_name": "R",
   "language": "R",
   "name": "ir"
  },
  "language_info": {
   "codemirror_mode": "r",
   "file_extension": ".r",
   "mimetype": "text/x-r-source",
   "name": "R",
   "pygments_lexer": "r",
   "version": "4.1.3"
  }
 },
 "nbformat": 4,
 "nbformat_minor": 5
}
