{
 "cells": [
  {
   "cell_type": "markdown",
   "id": "bb287f23-024b-459f-9c8e-6b8c065dadf5",
   "metadata": {},
   "source": [
    "## Optimizing Dry Bean Sorting into Classes using Classification with K-nearest neighbors"
   ]
  },
  {
   "cell_type": "markdown",
   "id": "a4bf159a-5fae-41f0-853d-636328e071f8",
   "metadata": {},
   "source": [
    "In agriculture, sorting seeds based on physical characteristics like size and shape is critical in post-harvest processing. However, manual sorting is time-consuming and costly, and its accuracy can vary by individual. As a result, there is growing interest in automatic sorting systems. Computer algorithms are used to analyze images of seeds and classify seeds based on features like size and shape, making sorting faster, more accurate, and less labor-intensive than manual sorting."
   ]
  },
  {
   "cell_type": "markdown",
   "id": "b8a1bb49-ffa3-49fe-a0b4-6e8f0a126bd1",
   "metadata": {},
   "source": [
    "The question of our study is whether it is possible to utilize the measurements of existing dry bean images to predict the class of an unclassified bean image such as Seker, Barbunya, Bombay, Cali, Dermosan, Horoz, or Sira."
   ]
  },
  {
   "cell_type": "markdown",
   "id": "605f1dae-3e1f-498d-8d88-22ba27ad30b0",
   "metadata": {},
   "source": [
    "Our project focuses on analyzing a dataset of digitized dry bean image features created by Koklu, M. and Ozakan, I.A. (Koklu and Ozakan, 2020). The data has 17 attributes and 13611 observations. Each row in the dataset corresponds to an image of a dry bean and includes information about its Class (target) and other measurements including perimeter,roundness, etc (predictors). A computer version system distinguished the seed images between the seven registered varieties of dry beans."
   ]
  },
  {
   "cell_type": "code",
   "execution_count": 3,
   "id": "32e5e606",
   "metadata": {},
   "outputs": [
    {
     "name": "stderr",
     "output_type": "stream",
     "text": [
      "Updating HTML index of packages in '.Library'\n",
      "\n",
      "Making 'packages.html' ...\n",
      " done\n",
      "\n"
     ]
    }
   ],
   "source": [
    "# Download all the necessay libraries\n",
    "library(tidyverse)\n",
    "library(repr)\n",
    "library(tidymodels)\n",
    "install.packages(\"tableone\")\n",
    "library(tableone)\n",
    "options(repr.matrix.max.rows = 6)\n",
    "\n"
   ]
  },
  {
   "cell_type": "code",
   "execution_count": 4,
   "id": "b21adbe7",
   "metadata": {},
   "outputs": [
    {
     "name": "stderr",
     "output_type": "stream",
     "text": [
      "\u001b[1mRows: \u001b[22m\u001b[34m13611\u001b[39m \u001b[1mColumns: \u001b[22m\u001b[34m17\u001b[39m\n",
      "\u001b[36m──\u001b[39m \u001b[1mColumn specification\u001b[22m \u001b[36m────────────────────────────────────────────────────────\u001b[39m\n",
      "\u001b[1mDelimiter:\u001b[22m \",\"\n",
      "\u001b[31mchr\u001b[39m  (1): Class\n",
      "\u001b[32mdbl\u001b[39m (16): Area, Perimeter, MajorAxisLength, MinorAxisLength, AspectRation, E...\n",
      "\n",
      "\u001b[36mℹ\u001b[39m Use `spec()` to retrieve the full column specification for this data.\n",
      "\u001b[36mℹ\u001b[39m Specify the column types or set `show_col_types = FALSE` to quiet this message.\n"
     ]
    }
   ],
   "source": [
    "\n",
    "# Reading the dataset\n",
    "\n",
    "url <- \"https://github.com/NaziaNadir/dsci-100-2023-007-group-8/raw/main/Dry_Bean_Dataset.csv\"\n",
    "bean_data <- read_csv(url)\n",
	@@ -275,16 +275,16 @@
    "#Set the seed. Don't remove this!\n",
    "set.seed(3456) \n",
    "\n",
    "# Randomly take 75% of the data in the training set. \n",
    "# This will be proportional to the different number of bean Classes in the dataset.\n",
    "\n",
    "bean_split <- initial_split(bean_data, prop = 0.5, strata = Class)  \n",
    "bean_train <- training(bean_split)   \n",
    "bean_test <- testing(bean_split) # wont touch it until the best classifier is obtained\n",
    "\n",
    "# your code here\n",
    "bean_train\n",
    "bean_test"
   ]
  },
  {
	@@ -871,6 +871,41 @@
    "table_detail <- CreateTableOne(data=bean_train)\n",
    "summary(table_detail)"
   ]
  },
  {
   "cell_type": "markdown",
   "id": "78dbebb0-4c0a-4150-a9fa-f66a6b113577",
   "metadata": {},
   "source": [
    "### Explanation of summary table\n"
   ]
  },
  {
   "cell_type": "markdown",
   "id": "22a0baac-1f2b-4746-a5ff-7942e05343d5",
   "metadata": {},
   "source": [
    "### Forward selection\n",
    "We are using forward selection to determine the best model once we have reduced the predictor number to seven. This is bacause forward selection code would not run with all 16 predictors on Juypter.   "
   ]
  },
  {
   "cell_type": "code",
   "execution_count": 10,
   "id": "6e563f6f-de53-4fb4-afeb-5ad812c2bd72",
   "metadata": {},
   "outputs": [],
   "source": [
    "# # select all columns (possible predictors) except Class\n",
    "# names <- colnames(bean_train |> select (-Class))\n",
    "\n",
    "# # Make model formula for all predictors\n",
    "# model_formula <- paste(\"Class\", \"~\", paste(names, collapse=\"+\"))\n",
    "# model_formula \n",
    "\n",
    "# # create an empty tibble to store the results\n",
    "# accuracies <- tibble(size = integer(), \n",
    "#                      model_string = character(), \n",
    "#                      accuracy = numeric())\n",
    "\n",
    "# # create a model specification\n",
    "# knn_spec <- nearest_neighbor(weight_func = \"rectangular\", \n",
    "#                              neighbors = tune()) |>\n",
    "#      set_engine(\"kknn\") |>\n",
    "#      set_mode(\"classification\")\n",
    "\n",
    "# # create a 5-fold cross-validation object\n",
    "# BeanData_vfold <- vfold_cv(bean_train, v = 5, strata = Class)\n",
    "\n",
    "# # store the total number of predictors\n",
    "# n_total <- length(names)\n",
    "\n",
    "# # stores selected predictors\n",
    "# selected <- c()"
   ]
  },
  {
   "cell_type": "code",
   "execution_count": 11,
   "id": "47a54160-9691-4a13-92da-fdf168cb83e8",
   "metadata": {},
   "outputs": [],
   "source": [
    "# # for every size from 1 to the total number of predictors\n",
    "# for (i in 1:n_total) {\n",
    "#     # for every predictor still not added yet\n",
    "#     accs <- list()\n",
    "#     models <- list()\n",
    "#     for (j in 1:length(names)) {\n",
    "#         # create a model string for this combination of predictors\n",
    "#         preds_new <- c(selected, names[[j]])\n",
    "#         model_string <- paste(\"Class\", \"~\", paste(preds_new, collapse=\"+\"))\n",
    "\n",
    "#         # create a recipe from the model string\n",
    "#         BeanData_recipe <- recipe(as.formula(model_string), \n",
    "#                                 data = bean_train) |>\n",
    "#                           step_scale(all_predictors()) |>\n",
    "#                           step_center(all_predictors())\n",
    "\n",
    "#         # tune the KNN classifier with these predictors, \n",
    "#         # and collect the accuracy for the best K\n",
    "#         acc <- workflow() |>\n",
    "#           add_recipe( BeanData_recipe ) |>\n",
    "#           add_model(knn_spec) |>\n",
    "#           tune_grid(resamples = BeanData_vfold, grid = 10) |>\n",
    "#           collect_metrics() |>\n",
    "#           filter(.metric == \"accuracy\") |>\n",
    "#           summarize(mx = max(mean))\n",
    "#         acc <- acc$mx |> unlist()\n",
    "\n",
    "#         # add this result to the dataframe\n",
    "#         accs[[j]] <- acc\n",
    "#         models[[j]] <- model_string\n",
    "#     }\n",
    "#     jstar <- which.max(unlist(accs))\n",
    "#     accuracies <- accuracies |> \n",
    "#       add_row(size = i, \n",
    "#               model_string = models[[jstar]], \n",
    "#               accuracy = accs[[jstar]])\n",
    "#     selected <- c(selected, names[[jstar]])\n",
    "#     names <- names[-jstar]\n",
    "# }\n",
    "# accuracies"
   ]
  },
  {
   "cell_type": "markdown",
   "id": "7c70f236-066f-405d-8fc8-a959b22eb815",
   "metadata": {},
   "source": [
    "### Results of forward selection\n",
    "The model with the highest accuracy has Perimeter, Compactness, roundness, Eccentricity, EquivDiameter, AspectRation, and ConvexArea as the predictors. The accuracy for this model is 91.5%. These results align with what we derived from our preliminary analysis. Hence, we are confident that the k-nearest model using these seven predictors will accurately classify the Class of a new seed 91.5% of the time. "
   ]
  },
  {
   "cell_type": "code",
   "execution_count": 13,
   "id": "6be20abe-8034-498f-adec-f798c1c166c9",
   "metadata": {},
   "outputs": [
    {
     "data": {
      "text/html": [
       "<table class=\"dataframe\">\n",
       "<caption>A tibble: 18 × 7</caption>\n",
       "<thead>\n",
       "\t<tr><th scope=col>neighbors</th><th scope=col>.metric</th><th scope=col>.estimator</th><th scope=col>mean</th><th scope=col>n</th><th scope=col>std_err</th><th scope=col>.config</th></tr>\n",
       "\t<tr><th scope=col>&lt;int&gt;</th><th scope=col>&lt;chr&gt;</th><th scope=col>&lt;chr&gt;</th><th scope=col>&lt;dbl&gt;</th><th scope=col>&lt;int&gt;</th><th scope=col>&lt;dbl&gt;</th><th scope=col>&lt;chr&gt;</th></tr>\n",
       "</thead>\n",
       "<tbody>\n",
       "\t<tr><td>2</td><td>accuracy</td><td>multiclass</td><td>0.8865330</td><td>5</td><td>0.003952438</td><td>Preprocessor1_Model1</td></tr>\n",
       "\t<tr><td>2</td><td>roc_auc </td><td>hand_till </td><td>0.9662358</td><td>5</td><td>0.001390996</td><td>Preprocessor1_Model1</td></tr>\n",
       "\t<tr><td>3</td><td>accuracy</td><td>multiclass</td><td>0.9043164</td><td>5</td><td>0.003837602</td><td>Preprocessor1_Model2</td></tr>\n",
       "\t<tr><td>⋮</td><td>⋮</td><td>⋮</td><td>⋮</td><td>⋮</td><td>⋮</td><td>⋮</td></tr>\n",
       "\t<tr><td>13</td><td>roc_auc </td><td>hand_till </td><td>0.9881862</td><td>5</td><td>0.001448098</td><td>Preprocessor1_Model8</td></tr>\n",
       "\t<tr><td>14</td><td>accuracy</td><td>multiclass</td><td>0.9094619</td><td>5</td><td>0.002712292</td><td>Preprocessor1_Model9</td></tr>\n",
       "\t<tr><td>14</td><td>roc_auc </td><td>hand_till </td><td>0.9885820</td><td>5</td><td>0.001529872</td><td>Preprocessor1_Model9</td></tr>\n",
       "</tbody>\n",
       "</table>\n"
      ],
      "text/latex": [
       "A tibble: 18 × 7\n",
       "\\begin{tabular}{lllllll}\n",
       " neighbors & .metric & .estimator & mean & n & std\\_err & .config\\\\\n",
       " <int> & <chr> & <chr> & <dbl> & <int> & <dbl> & <chr>\\\\\n",
       "\\hline\n",
       "\t 2 & accuracy & multiclass & 0.8865330 & 5 & 0.003952438 & Preprocessor1\\_Model1\\\\\n",
       "\t 2 & roc\\_auc  & hand\\_till  & 0.9662358 & 5 & 0.001390996 & Preprocessor1\\_Model1\\\\\n",
       "\t 3 & accuracy & multiclass & 0.9043164 & 5 & 0.003837602 & Preprocessor1\\_Model2\\\\\n",
       "\t ⋮ & ⋮ & ⋮ & ⋮ & ⋮ & ⋮ & ⋮\\\\\n",
       "\t 13 & roc\\_auc  & hand\\_till  & 0.9881862 & 5 & 0.001448098 & Preprocessor1\\_Model8\\\\\n",
       "\t 14 & accuracy & multiclass & 0.9094619 & 5 & 0.002712292 & Preprocessor1\\_Model9\\\\\n",
       "\t 14 & roc\\_auc  & hand\\_till  & 0.9885820 & 5 & 0.001529872 & Preprocessor1\\_Model9\\\\\n",
       "\\end{tabular}\n"
      ],
      "text/markdown": [
       "\n",
       "A tibble: 18 × 7\n",
       "\n",
       "| neighbors &lt;int&gt; | .metric &lt;chr&gt; | .estimator &lt;chr&gt; | mean &lt;dbl&gt; | n &lt;int&gt; | std_err &lt;dbl&gt; | .config &lt;chr&gt; |\n",
       "|---|---|---|---|---|---|---|\n",
       "| 2 | accuracy | multiclass | 0.8865330 | 5 | 0.003952438 | Preprocessor1_Model1 |\n",
       "| 2 | roc_auc  | hand_till  | 0.9662358 | 5 | 0.001390996 | Preprocessor1_Model1 |\n",
       "| 3 | accuracy | multiclass | 0.9043164 | 5 | 0.003837602 | Preprocessor1_Model2 |\n",
       "| ⋮ | ⋮ | ⋮ | ⋮ | ⋮ | ⋮ | ⋮ |\n",
       "| 13 | roc_auc  | hand_till  | 0.9881862 | 5 | 0.001448098 | Preprocessor1_Model8 |\n",
       "| 14 | accuracy | multiclass | 0.9094619 | 5 | 0.002712292 | Preprocessor1_Model9 |\n",
       "| 14 | roc_auc  | hand_till  | 0.9885820 | 5 | 0.001529872 | Preprocessor1_Model9 |\n",
       "\n"
      ],
      "text/plain": [
       "   neighbors .metric  .estimator mean      n std_err     .config             \n",
       "1  2         accuracy multiclass 0.8865330 5 0.003952438 Preprocessor1_Model1\n",
       "2  2         roc_auc  hand_till  0.9662358 5 0.001390996 Preprocessor1_Model1\n",
       "3  3         accuracy multiclass 0.9043164 5 0.003837602 Preprocessor1_Model2\n",
       "⋮  ⋮         ⋮        ⋮          ⋮         ⋮ ⋮           ⋮                   \n",
       "16 13        roc_auc  hand_till  0.9881862 5 0.001448098 Preprocessor1_Model8\n",
       "17 14        accuracy multiclass 0.9094619 5 0.002712292 Preprocessor1_Model9\n",
       "18 14        roc_auc  hand_till  0.9885820 5 0.001529872 Preprocessor1_Model9"
      ]
     },
     "metadata": {},
     "output_type": "display_data"
    }
   ],
   "source": [
    "#THIS CODE IS FOR FINDING THE OPTIMAL VALUE OF K FOR OUR SELECTED MODEL\n",
    "\n",
    "set.seed(2020) # DO NOT REMOVE\n",
    "# standarization recipe\n",
    "\n",
    "bean_recipe <- recipe(Class ~., data = bean_train) |>\n",
    "   step_scale(all_predictors()) |>\n",
    "   step_center(all_predictors())\n",
    "\n",
    "# model specification\n",
    "knn_tune <- nearest_neighbor(weight_func = \"rectangular\", neighbors = tune()) |>\n",
    "       set_engine(\"kknn\") |>\n",
    "      set_mode(\"classification\")\n",
    "\n",
    "# cross validation\n",
    "\n",
    "bean_vfold <- vfold_cv(bean_train, v = 5, strata = Class)\n",
    "\n",
    "# Assemble into workflow\n",
    "knn_results <- workflow() |>\n",
    "       add_recipe(bean_recipe) |>\n",
    "       add_model(knn_tune) |>\n",
    "       tune_grid(resamples = bean_vfold, grid = 10) |>\n",
    "       collect_metrics()\n",
    "\n",
    "knn_results"
   ]
  },
  {
   "cell_type": "code",
   "execution_count": 14,
   "id": "45e0994e-64c8-457c-a666-88825b51c37e",
   "metadata": {},
   "outputs": [
    {
     "data": {
      "text/html": [
       "<table class=\"dataframe\">\n",
       "<caption>A tibble: 9 × 7</caption>\n",
       "<thead>\n",
       "\t<tr><th scope=col>neighbors</th><th scope=col>.metric</th><th scope=col>.estimator</th><th scope=col>mean</th><th scope=col>n</th><th scope=col>std_err</th><th scope=col>.config</th></tr>\n",
       "\t<tr><th scope=col>&lt;int&gt;</th><th scope=col>&lt;chr&gt;</th><th scope=col>&lt;chr&gt;</th><th scope=col>&lt;dbl&gt;</th><th scope=col>&lt;int&gt;</th><th scope=col>&lt;dbl&gt;</th><th scope=col>&lt;chr&gt;</th></tr>\n",
       "</thead>\n",
       "<tbody>\n",
       "\t<tr><td>2</td><td>accuracy</td><td>multiclass</td><td>0.8865330</td><td>5</td><td>0.003952438</td><td>Preprocessor1_Model1</td></tr>\n",
       "\t<tr><td>3</td><td>accuracy</td><td>multiclass</td><td>0.9043164</td><td>5</td><td>0.003837602</td><td>Preprocessor1_Model2</td></tr>\n",
       "\t<tr><td>5</td><td>accuracy</td><td>multiclass</td><td>0.9079908</td><td>5</td><td>0.003379538</td><td>Preprocessor1_Model3</td></tr>\n",
       "\t<tr><td>⋮</td><td>⋮</td><td>⋮</td><td>⋮</td><td>⋮</td><td>⋮</td><td>⋮</td></tr>\n",
       "\t<tr><td>12</td><td>accuracy</td><td>multiclass</td><td>0.9112246</td><td>5</td><td>0.002938709</td><td>Preprocessor1_Model7</td></tr>\n",
       "\t<tr><td>13</td><td>accuracy</td><td>multiclass</td><td>0.9099024</td><td>5</td><td>0.002574633</td><td>Preprocessor1_Model8</td></tr>\n",
       "\t<tr><td>14</td><td>accuracy</td><td>multiclass</td><td>0.9094619</td><td>5</td><td>0.002712292</td><td>Preprocessor1_Model9</td></tr>\n",
       "</tbody>\n",
       "</table>\n"
      ],
      "text/latex": [
       "A tibble: 9 × 7\n",
       "\\begin{tabular}{lllllll}\n",
       " neighbors & .metric & .estimator & mean & n & std\\_err & .config\\\\\n",
       " <int> & <chr> & <chr> & <dbl> & <int> & <dbl> & <chr>\\\\\n",
       "\\hline\n",
       "\t 2 & accuracy & multiclass & 0.8865330 & 5 & 0.003952438 & Preprocessor1\\_Model1\\\\\n",
       "\t 3 & accuracy & multiclass & 0.9043164 & 5 & 0.003837602 & Preprocessor1\\_Model2\\\\\n",
       "\t 5 & accuracy & multiclass & 0.9079908 & 5 & 0.003379538 & Preprocessor1\\_Model3\\\\\n",
       "\t ⋮ & ⋮ & ⋮ & ⋮ & ⋮ & ⋮ & ⋮\\\\\n",
       "\t 12 & accuracy & multiclass & 0.9112246 & 5 & 0.002938709 & Preprocessor1\\_Model7\\\\\n",
       "\t 13 & accuracy & multiclass & 0.9099024 & 5 & 0.002574633 & Preprocessor1\\_Model8\\\\\n",
       "\t 14 & accuracy & multiclass & 0.9094619 & 5 & 0.002712292 & Preprocessor1\\_Model9\\\\\n",
       "\\end{tabular}\n"
      ],
      "text/markdown": [
       "\n",
       "A tibble: 9 × 7\n",
       "\n",
       "| neighbors &lt;int&gt; | .metric &lt;chr&gt; | .estimator &lt;chr&gt; | mean &lt;dbl&gt; | n &lt;int&gt; | std_err &lt;dbl&gt; | .config &lt;chr&gt; |\n",
       "|---|---|---|---|---|---|---|\n",
       "| 2 | accuracy | multiclass | 0.8865330 | 5 | 0.003952438 | Preprocessor1_Model1 |\n",
       "| 3 | accuracy | multiclass | 0.9043164 | 5 | 0.003837602 | Preprocessor1_Model2 |\n",
       "| 5 | accuracy | multiclass | 0.9079908 | 5 | 0.003379538 | Preprocessor1_Model3 |\n",
       "| ⋮ | ⋮ | ⋮ | ⋮ | ⋮ | ⋮ | ⋮ |\n",
       "| 12 | accuracy | multiclass | 0.9112246 | 5 | 0.002938709 | Preprocessor1_Model7 |\n",
       "| 13 | accuracy | multiclass | 0.9099024 | 5 | 0.002574633 | Preprocessor1_Model8 |\n",
       "| 14 | accuracy | multiclass | 0.9094619 | 5 | 0.002712292 | Preprocessor1_Model9 |\n",
       "\n"
      ],
      "text/plain": [
       "  neighbors .metric  .estimator mean      n std_err     .config             \n",
       "1 2         accuracy multiclass 0.8865330 5 0.003952438 Preprocessor1_Model1\n",
       "2 3         accuracy multiclass 0.9043164 5 0.003837602 Preprocessor1_Model2\n",
       "3 5         accuracy multiclass 0.9079908 5 0.003379538 Preprocessor1_Model3\n",
       "⋮ ⋮         ⋮        ⋮          ⋮         ⋮ ⋮           ⋮                   \n",
       "7 12        accuracy multiclass 0.9112246 5 0.002938709 Preprocessor1_Model7\n",
       "8 13        accuracy multiclass 0.9099024 5 0.002574633 Preprocessor1_Model8\n",
       "9 14        accuracy multiclass 0.9094619 5 0.002712292 Preprocessor1_Model9"
      ]
     },
     "metadata": {},
     "output_type": "display_data"
    },
    {
     "data": {
      "text/html": [
       "<table class=\"dataframe\">\n",
       "<caption>A tibble: 9 × 2</caption>\n",
       "<thead>\n",
       "\t<tr><th scope=col>neighbors</th><th scope=col>mean</th></tr>\n",
       "\t<tr><th scope=col>&lt;int&gt;</th><th scope=col>&lt;dbl&gt;</th></tr>\n",
       "</thead>\n",
       "<tbody>\n",
       "\t<tr><td>12</td><td>0.9112246</td></tr>\n",
       "\t<tr><td> 7</td><td>0.9106375</td></tr>\n",
       "\t<tr><td> 9</td><td>0.9104904</td></tr>\n",
       "\t<tr><td>⋮</td><td>⋮</td></tr>\n",
       "\t<tr><td>5</td><td>0.9079908</td></tr>\n",
       "\t<tr><td>3</td><td>0.9043164</td></tr>\n",
       "\t<tr><td>2</td><td>0.8865330</td></tr>\n",
       "</tbody>\n",
       "</table>\n"
      ],
      "text/latex": [
       "A tibble: 9 × 2\n",
       "\\begin{tabular}{ll}\n",
       " neighbors & mean\\\\\n",
       " <int> & <dbl>\\\\\n",
       "\\hline\n",
       "\t 12 & 0.9112246\\\\\n",
       "\t  7 & 0.9106375\\\\\n",
       "\t  9 & 0.9104904\\\\\n",
       "\t ⋮ & ⋮\\\\\n",
       "\t 5 & 0.9079908\\\\\n",
       "\t 3 & 0.9043164\\\\\n",
       "\t 2 & 0.8865330\\\\\n",
       "\\end{tabular}\n"
      ],
      "text/markdown": [
       "\n",
       "A tibble: 9 × 2\n",
       "\n",
       "| neighbors &lt;int&gt; | mean &lt;dbl&gt; |\n",
       "|---|---|\n",
       "| 12 | 0.9112246 |\n",
       "|  7 | 0.9106375 |\n",
       "|  9 | 0.9104904 |\n",
       "| ⋮ | ⋮ |\n",
       "| 5 | 0.9079908 |\n",
       "| 3 | 0.9043164 |\n",
       "| 2 | 0.8865330 |\n",
       "\n"
      ],
      "text/plain": [
       "  neighbors mean     \n",
       "1 12        0.9112246\n",
       "2  7        0.9106375\n",
       "3  9        0.9104904\n",
       "⋮ ⋮         ⋮        \n",
       "7 5         0.9079908\n",
       "8 3         0.9043164\n",
       "9 2         0.8865330"
      ]
     },
     "metadata": {},
     "output_type": "display_data"
    },
    {
     "data": {
      "image/png": "iVBORw0KGgoAAAANSUhEUgAAA0gAAANICAMAAADKOT/pAAADAFBMVEUAAAABAQECAgIDAwME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\nsKPoiswAAAAASUVORK5CYII=",
      "text/plain": [
       "plot without title"
      ]
     },
     "metadata": {
      "image/png": {
       "height": 420,
       "width": 420
      }
     },
     "output_type": "display_data"
    }
   ],
   "source": [
    "\n",
    "# find best value of number of K\n",
    "accuracies <- knn_results |> \n",
    "       filter(.metric==\"accuracy\")\n",
    "\n",
    "accuracy_versus_k <- ggplot(accuracies, aes(x = neighbors, y = mean))+\n",
    "       geom_point() +\n",
    "       geom_line() +\n",
    "      labs(x = \"Neighbors\", y = \"Accuracy Estimate\") +\n",
    "       scale_x_continuous(breaks = seq(0, 14, by = 1)) +  # adjusting the x-axis\n",
    "      scale_y_continuous(limits = c(0.4, 1.0)) # adjusting the y-axis\n",
    "accuracies\n",
    "accuracy_versus_k\n",
    "\n",
    "# the highest accuracy is 91.12 and it is found at K=12\n",
    "highest_accuracy <- accuracies|> select(neighbors, mean)|> arrange(desc(mean))\n",
    "highest_accuracy"
   ]
  },
  {
   "cell_type": "markdown",
   "id": "62894453",
   "metadata": {},
   "source": [
    "###### "
   ]
  }
 ],
 "metadata": {
  "kernelspec": {
   "display_name": "R",
   "language": "R",
   "name": "ir"
  },
  "language_info": {
   "codemirror_mode": "r",
   "file_extension": ".r",
   "mimetype": "text/x-r-source",
   "name": "R",
   "pygments_lexer": "r",
   "version": "4.1.3"
  }
 },
 "nbformat": 4,
 "nbformat_minor": 5
}
